{
 "cells": [
  {
   "cell_type": "code",
   "execution_count": 1,
   "metadata": {},
   "outputs": [],
   "source": [
    "# imports\n",
    "import pandas as pd\n",
    "import matplotlib.pyplot as plt\n",
    "import seaborn as sns\n",
    "import numpy as np\n",
    "from scipy.spatial import distance  # distance metrics"
   ]
  },
  {
   "cell_type": "markdown",
   "metadata": {},
   "source": [
    "## Course characterization\n",
    "\n",
    "4th year students wanted to help 1st year students in the process of choosing elective courses. To do so, they gathered data on two parameters for 20 courses: interest level, and difficulty level. Both parameters are measured on a scale from 1-10, from easy to hard. The students wants to divide the courses to three groups, so  courses which are similar in both parameters would be in the same group.\n",
    "<br>\n",
    "The following graph shows all courses. Each dot is a course, the x axis is the difficulty level and the y axis is the interest level of the course."
   ]
  },
  {
   "cell_type": "code",
   "execution_count": 2,
   "metadata": {},
   "outputs": [
    {
     "data": {
      "image/png": "[encoded data removed]",
      "text/plain": [
       "<Figure size 432x288 with 1 Axes>"
      ]
     },
     "metadata": {
      "needs_background": "light"
     },
     "output_type": "display_data"
    }
   ],
   "source": [
    "# read data\n",
    "clustering_df = pd.read_csv('..\\\\clustering_example_scale.csv')\n",
    "# plot courses by difficulty and interest levels - each point is represents a course\n",
    "ax = sns.scatterplot(x='difficulty_level', y='interest_level', data=clustering_df)  "
   ]
  },
  {
   "cell_type": "markdown",
   "metadata": {},
   "source": [
    "The students chose to use clustering methods that divide the data into groups.\n",
    "Nicole and Jennifer used two different clustering methods and got two different group arangements, as shown in the graph below.\n",
    "Like before, each dot represents a course. The colors represent different clusters. for example the orange group, represents one cluster."
   ]
  },
  {
   "cell_type": "code",
   "execution_count": 3,
   "metadata": {
    "scrolled": true
   },
   "outputs": [
    {
     "data": {
      "image/png": "[encoded data removed]",
      "text/plain": [
       "<Figure size 474.875x216 with 2 Axes>"
      ]
     },
     "metadata": {
      "needs_background": "light"
     },
     "output_type": "display_data"
    }
   ],
   "source": [
    "# plot the data\n",
    "g = sns.FacetGrid(clustering_df, col=\"clustering_method\", hue=\"cluster\")\n",
    "g.map(plt.scatter, \"difficulty_level\", \"interest_level\")\n",
    "g.add_legend(frameon=True);"
   ]
  },
  {
   "cell_type": "markdown",
   "metadata": {},
   "source": [
    "### Exercise 1:\n",
    "\n",
    "Which cluster ensemble seems better? Nicole's or Jennifer's?\n",
    "\n",
    "Why?"
   ]
  },
  {
   "cell_type": "markdown",
   "metadata": {},
   "source": [
    "### Answer\n",
    "\n",
    "Nicole's seems neater: better seperation between clusters (they are less intertwined)"
   ]
  },
  {
   "cell_type": "markdown",
   "metadata": {},
   "source": [
    "### Exercise 2:\n",
    "\n",
    "Come up with a scoring measure (or multiple scoring measures) for how good a cluster is. \n",
    "\n",
    "This scoring measure needs to get as input all of the dots and the cluster they belong to, and give as output a numerical value.\n",
    "\n",
    "You can come up with your own measure, or search for one on the internet. "
   ]
  },
  {
   "cell_type": "markdown",
   "metadata": {},
   "source": [
    "Describe in words this grading measure, state the measure's purpose (what makes one cluster ensamble better than a different one), and how you would compute it."
   ]
  },
  {
   "cell_type": "markdown",
   "metadata": {},
   "source": [
    "### Answer\n",
    "1. For each pair of clusters, calculate the distance between the centres of each cluster, Sum those distances.\n",
    "2. For each cluster, sum the square root distances from the centre to each datapoint in that cluster, Sum this calculation for all clusters.\n",
    "3. For each cluster pair, calculate the minimal distance between two points that belong to different clusters, Sum this calculation for all cluster pairs."
   ]
  },
  {
   "cell_type": "markdown",
   "metadata": {},
   "source": [
    "Now, write code to compute your grading measure and test it on Nicole's and Jennifer's cluster ensamble.\n",
    "\n",
    "You have two supporting functions at your disposal:\n",
    "- A function that returns all points that belong to a specific cluster. Given all points, a clustering method, and the name of the specific cluster.\n",
    "- A function that returns the distance between two points."
   ]
  },
  {
   "cell_type": "code",
   "execution_count": 4,
   "metadata": {},
   "outputs": [],
   "source": [
    "def get_all_points_in_cluster(clusters_df, cluster_name, clustering_method):\n",
    "    '''\n",
    "    This function gets as input a dataframe with clusters, the name of the clustering method \n",
    "    and the name of a cluster, and returns all points in that cluster as a numpy array\n",
    "    '''\n",
    "    # filter dataframe to get only points from the appropriate clustering method and appropriate cluster\n",
    "    cluster_df = clusters_df[(clusters_df['cluster'] == cluster_name) & (clusters_df['clustering_method'] == clustering_method)]\n",
    "    # get only the ranking columns\n",
    "    cluster_points = cluster_df[['difficulty_level','interest_level']]\n",
    "    # convert columns to numpy array\n",
    "    cluster_points = cluster_points.values\n",
    "    return cluster_points"
   ]
  },
  {
   "cell_type": "code",
   "execution_count": 5,
   "metadata": {},
   "outputs": [
    {
     "name": "stdout",
     "output_type": "stream",
     "text": [
      "[[1.13425738 1.2862267 ]\n",
      " [1.99519948 2.17617611]\n",
      " [2.40064391 1.61374775]\n",
      " [2.66863848 5.12427238]\n",
      " [3.1878366  4.10367405]\n",
      " [3.65565886 4.84288996]\n",
      " [3.73023531 2.61469753]]\n"
     ]
    }
   ],
   "source": [
    "# example use of 'get_all_points_in_cluster' - \n",
    "Jennifer_A_points = get_all_points_in_cluster(clustering_df,'A','Jennifer')\n",
    "print(Jennifer_A_points)"
   ]
  },
  {
   "cell_type": "code",
   "execution_count": 6,
   "metadata": {},
   "outputs": [
    {
     "name": "stdout",
     "output_type": "stream",
     "text": [
      "1.2382371569240433\n"
     ]
    }
   ],
   "source": [
    "# you can also use the 'distance.euclidean' function to get the distance between two points\n",
    "# example use of euclidean distance:\n",
    "distance_between_first_two_points = distance.euclidean(Jennifer_A_points[0], Jennifer_A_points[1])\n",
    "print(distance_between_first_two_points)"
   ]
  },
  {
   "cell_type": "markdown",
   "metadata": {},
   "source": [
    "As explained in the measurements, there is a dependency on the clusters cennters.\n",
    "The following graphs demonstrates where are the centers of the clusters for each of the methods"
   ]
  },
  {
   "cell_type": "code",
   "execution_count": 7,
   "metadata": {},
   "outputs": [
    {
     "data": {
      "text/plain": [
       "[Text(0, 0.5, 'interest_level'), Text(0.5, 0, 'difficulty_level')]"
      ]
     },
     "execution_count": 7,
     "metadata": {},
     "output_type": "execute_result"
    },
    {
     "data": {
      "image/png": "[encoded data removed]",
      "text/plain": [
       "<Figure size 576x252 with 2 Axes>"
      ]
     },
     "metadata": {
      "needs_background": "light"
     },
     "output_type": "display_data"
    }
   ],
   "source": [
    "def build_mean_graph(clustering_df, method, ax_plt):\n",
    "    a_cluster = get_all_points_in_cluster(clustering_df,'A',method)\n",
    "    b_cluster = get_all_points_in_cluster(clustering_df,'B',method)\n",
    "    c_cluster = get_all_points_in_cluster(clustering_df,'C',method)\n",
    "\n",
    "    xa = a_cluster[:,0]\n",
    "    ya = a_cluster[:,1]\n",
    "    xb = b_cluster[:,0]\n",
    "    yb = b_cluster[:,1]\n",
    "    xc = c_cluster[:,0]\n",
    "    yc = c_cluster[:,1]\n",
    "    \n",
    "    a_mean = np.average(a_cluster, axis=0)\n",
    "    b_mean = np.average(b_cluster, axis=0)\n",
    "    c_mean = np.average(c_cluster, axis=0)\n",
    "\n",
    "    ax_plt.plot(xa,ya,'o',color='blue')\n",
    "    ax_plt.plot(xb,yb,'o',color='orange')\n",
    "    ax_plt.plot(xc,yc,'o',color='green')\n",
    "    \n",
    "    ax_plt.plot(a_mean[0], a_mean[1], 'x', color='blue', markersize=10)\n",
    "    ax_plt.plot(b_mean[0], b_mean[1], 'x', color='orange', markersize=10)\n",
    "    ax_plt.plot(c_mean[0], c_mean[1], 'x', color='green', markersize=10)\n",
    "    \n",
    "\n",
    "plt.rc('font', size=10)\n",
    "fig, (ax1, ax2) = plt.subplots(1, 2)\n",
    "fig.set_figheight(3.5)\n",
    "fig.set_figwidth(8)\n",
    "\n",
    "build_mean_graph(clustering_df,'Jennifer', ax1)\n",
    "ax1.set_title('Jennifer')\n",
    "ax1.set(xlabel='difficulty_level', ylabel='interest_level')\n",
    "build_mean_graph(clustering_df,'Nicole', ax2)\n",
    "ax2.set_title('Nicole')\n",
    "ax2.set(xlabel='difficulty_level', ylabel='interest_level')"
   ]
  },
  {
   "cell_type": "markdown",
   "metadata": {},
   "source": [
    "Write your scoring measure (or multiple scoring measures) in the next cells."
   ]
  },
  {
   "cell_type": "code",
   "execution_count": 8,
   "metadata": {},
   "outputs": [],
   "source": [
    "def measure_clustering_goodness_1(clustering_df, clustering_method):\n",
    "    points_A=get_all_points_in_cluster(clustering_df,\"A\",clustering_method)\n",
    "    points_B=get_all_points_in_cluster(clustering_df,\"B\",clustering_method)\n",
    "    points_C=get_all_points_in_cluster(clustering_df,\"C\",clustering_method)\n",
    "    mean_A=points_A.mean(axis=0)\n",
    "    mean_B=points_B.mean(axis=0)\n",
    "    mean_C=points_C.mean(axis=0)\n",
    "    return distance.euclidean(mean_A,mean_B)+distance.euclidean(mean_A,mean_C)+distance.euclidean(mean_B,mean_C)"
   ]
  },
  {
   "cell_type": "code",
   "execution_count": 9,
   "metadata": {},
   "outputs": [],
   "source": [
    "def measure_clustering_goodness_2(clustering_df, clustering_method):\n",
    "    points_A=get_all_points_in_cluster(clustering_df,\"A\",clustering_method)\n",
    "    points_B=get_all_points_in_cluster(clustering_df,\"B\",clustering_method)\n",
    "    points_C=get_all_points_in_cluster(clustering_df,\"C\",clustering_method)\n",
    "    mean_A=points_A.mean(axis=0)\n",
    "    mean_B=points_B.mean(axis=0)\n",
    "    mean_C=points_C.mean(axis=0)\n",
    "    dist=0\n",
    "    dist_sum=0\n",
    "    for a in range(len(points_A)):\n",
    "        dist+=distance.euclidean(points_A[a],mean_A)**2\n",
    "    dist_sum+=dist**0.5\n",
    "    \n",
    "    dist=0\n",
    "    for b in range(len(points_B)):\n",
    "        dist+=distance.euclidean(points_B[b],mean_B)**2\n",
    "    dist_sum+=dist**0.5\n",
    "    \n",
    "    dist=0\n",
    "    for c in range(len(points_C)):\n",
    "        dist+=distance.euclidean(points_C[c],mean_C)**2\n",
    "    dist_sum+=dist**0.5\n",
    "    return dist_sum"
   ]
  },
  {
   "cell_type": "code",
   "execution_count": 10,
   "metadata": {},
   "outputs": [],
   "source": [
    "def measure_clustering_goodness_3(clustering_df, clustering_method):\n",
    "    points_A=get_all_points_in_cluster(clustering_df,\"A\",clustering_method)\n",
    "    points_B=get_all_points_in_cluster(clustering_df,\"B\",clustering_method)\n",
    "    points_C=get_all_points_in_cluster(clustering_df,\"C\",clustering_method)\n",
    "    dist_A_B=distance.euclidean(points_A[0],points_B[0])\n",
    "    dist_A_C=distance.euclidean(points_A[0],points_C[0])\n",
    "    dist_B_C=distance.euclidean(points_B[0],points_C[0])\n",
    "    for a in range(len(points_A)):\n",
    "        for b in range (len(points_B)):\n",
    "            if (distance.euclidean(points_A[a],points_B[b])<dist_A_B):\n",
    "                dist_A_B=distance.euclidean(points_A[a],points_B[b])\n",
    "        for c in range(len(points_C)):\n",
    "            if (distance.euclidean(points_A[a],points_C[c])<dist_A_C):\n",
    "                dist_A_C=distance.euclidean(points_A[a],points_C[c])\n",
    "                       \n",
    "    for b in range (len(points_B)):\n",
    "        for c in range(len(points_C)):\n",
    "            if (distance.euclidean(points_B[b],points_C[c])<dist_B_C):\n",
    "                dist_B_C=distance.euclidean(points_B[b],points_C[c])\n",
    "      \n",
    "    return dist_A_B+dist_A_C+dist_B_C"
   ]
  },
  {
   "cell_type": "markdown",
   "metadata": {},
   "source": [
    "Try your measures on Jennifer's and Nicole's clusters.\n",
    "Do the measures agree with your thoughts in Ex 1?"
   ]
  },
  {
   "cell_type": "code",
   "execution_count": 11,
   "metadata": {},
   "outputs": [
    {
     "name": "stdout",
     "output_type": "stream",
     "text": [
      "Measure 1: distance between centres\n",
      "Jennifer clustering score:  14.873483048857695\n",
      "Nicole clustering score:  15.499026936365508\n"
     ]
    }
   ],
   "source": [
    "print(\"Measure 1: distance between centres\")\n",
    "# Jennifer's clustering score\n",
    "print('Jennifer clustering score: ', measure_clustering_goodness_1(clustering_df, 'Jennifer'))\n",
    "\n",
    "# Nicole's clustering score\n",
    "print('Nicole clustering score: ', measure_clustering_goodness_1(clustering_df, 'Nicole'))"
   ]
  },
  {
   "cell_type": "code",
   "execution_count": 12,
   "metadata": {},
   "outputs": [
    {
     "name": "stdout",
     "output_type": "stream",
     "text": [
      "Measure 2: distance between centre and each point in cluster\n",
      "Jennifer clustering score:  14.063358753163822\n",
      "Nicole clustering score:  12.859303531883063\n"
     ]
    }
   ],
   "source": [
    "print(\"Measure 2: distance between centre and each point in cluster\")\n",
    "# Jennifer's clustering score\n",
    "print('Jennifer clustering score: ', measure_clustering_goodness_2(clustering_df, 'Jennifer'))\n",
    "\n",
    "# Nicole's clustering score\n",
    "print('Nicole clustering score: ', measure_clustering_goodness_2(clustering_df, 'Nicole'))"
   ]
  },
  {
   "cell_type": "code",
   "execution_count": 13,
   "metadata": {},
   "outputs": [
    {
     "name": "stdout",
     "output_type": "stream",
     "text": [
      "Measure 3: distance between closest points of different clusters\n",
      "Jennifer clustering score:  6.258843054341889\n",
      "Nicole clustering score:  8.451428457088845\n"
     ]
    }
   ],
   "source": [
    "print(\"Measure 3: distance between closest points of different clusters\")\n",
    "# Jennifer's clustering score\n",
    "print('Jennifer clustering score: ', measure_clustering_goodness_3(clustering_df, 'Jennifer'))\n",
    "\n",
    "# Nicole's clustering score\n",
    "print('Nicole clustering score: ', measure_clustering_goodness_3(clustering_df, 'Nicole'))"
   ]
  },
  {
   "cell_type": "markdown",
   "metadata": {},
   "source": [
    "### Answer\n",
    "Surprisingly, measurements 1 and 3 prefer Jennifer's clustering method, while only measure 2 prefer Nicole's method."
   ]
  }
 ],
 "metadata": {
  "kernelspec": {
   "display_name": "Python 3",
   "language": "python",
   "name": "python3"
  },
  "language_info": {
   "codemirror_mode": {
    "name": "ipython",
    "version": 3
   },
   "file_extension": ".py",
   "mimetype": "text/x-python",
   "name": "python",
   "nbconvert_exporter": "python",
   "pygments_lexer": "ipython3",
   "version": "3.8.3"
  }
 },
 "nbformat": 4,
 "nbformat_minor": 2
}
